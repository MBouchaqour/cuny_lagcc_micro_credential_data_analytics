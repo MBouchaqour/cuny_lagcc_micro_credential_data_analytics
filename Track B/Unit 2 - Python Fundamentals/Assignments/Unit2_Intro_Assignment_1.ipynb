{
  "cells": [
    {
      "cell_type": "markdown",
      "metadata": {
        "colab_type": "text",
        "id": "view-in-github"
      },
      "source": [
        "<a href=\"https://colab.research.google.com/github/niteen11/lagcc_data_analytics_micro_credential/blob/master/Unit%202%20-%20Python%20Fundamentals/Assignments/Unit2_Intro_Assignment_1.ipynb\" target=\"_parent\"><img src=\"https://colab.research.google.com/assets/colab-badge.svg\" alt=\"Open In Colab\"/></a>"
      ]
    },
    {
      "cell_type": "markdown",
      "metadata": {
        "id": "Vgs8Kp4TidFQ"
      },
      "source": [
        "# Lesson 1 - Intrdouction to Python - Assignment 1\n",
        "\n",
        "> Indented block\n",
        "\n"
      ]
    },
    {
      "cell_type": "markdown",
      "metadata": {
        "id": "_Hq7Ny79iwgD"
      },
      "source": [
        "## 1.\tWhat is Python and why is it useful?"
      ]
    },
    {
      "cell_type": "markdown",
      "metadata": {
        "id": "DBd0pMkDi0pv"
      },
      "source": [
        "Python is a computer programming language. Also you can say that Python is Object Oriented Programming Language due to its support for classes, encapsulation, polymorphism, inheritance ect. Python is very useful language. You can use Python to wrangle, analayze, and visualize data. You can also use it in general purpose such as creating programs and applications"
      ]
    },
    {
      "cell_type": "markdown",
      "metadata": {
        "id": "io_27RSlizno"
      },
      "source": [
        "## 2.\tAre the following variable names allowed in python?"
      ]
    },
    {
      "cell_type": "markdown",
      "metadata": {
        "id": "9_GYv9VTiqrI"
      },
      "source": [
        "a.\t1_message   --- Not allowed, started with a digit\n",
        "\n",
        "b.\tGreeting_message ---- works fine\n",
        "\n",
        "c.\tMessage_1 ---- works fine\n",
        "\n",
        "d.\tFirst name ---- Not allowed, has space\n",
        "\n",
        "e.\tFull_name ---- works fine\n",
        "\n"
      ]
    },
    {
      "cell_type": "markdown",
      "metadata": {
        "id": "b5M6t8YjjPaZ"
      },
      "source": []
    },
    {
      "cell_type": "markdown",
      "metadata": {
        "id": "DAW8m8IQjRyR"
      },
      "source": [
        "## 3.\tCreate a variable that holds the string “hello there!”"
      ]
    },
    {
      "cell_type": "code",
      "execution_count": 1,
      "metadata": {
        "id": "guULMEhrjYtT"
      },
      "outputs": [],
      "source": [
        "greeting=\"Hello there!\""
      ]
    },
    {
      "cell_type": "markdown",
      "metadata": {
        "id": "dpa_YOt4jXyo"
      },
      "source": [
        "## 4.\tCreate a variable for first name, last name and an email extension.  Concatenating all three together to form an email address.  For example: firstnamelastname@gmail.com"
      ]
    },
    {
      "cell_type": "code",
      "execution_count": 2,
      "metadata": {
        "id": "pltxfnh3iJLW"
      },
      "outputs": [
        {
          "name": "stdout",
          "output_type": "stream",
          "text": [
            "Here is your email:  MustaphaBouchaqour@gmail.com\n"
          ]
        }
      ],
      "source": [
        "fname,lname,email_extension=\"Mustapha\",\"Bouchaqour\",\"gmail.com\"\n",
        "your_email=fname+lname+\"@\"+email_extension\n",
        "print(\"Here is your email: \", your_email)"
      ]
    },
    {
      "cell_type": "markdown",
      "metadata": {
        "id": "Ka84RGy4jmLT"
      },
      "source": [
        "## 5.\tStore someone you know name in a variable called name.  Print their name in lower and uppercase using a method."
      ]
    },
    {
      "cell_type": "code",
      "execution_count": 3,
      "metadata": {
        "id": "34IFFtK4jrg4"
      },
      "outputs": [
        {
          "name": "stdout",
          "output_type": "stream",
          "text": [
            "Original name\tUpper name\t Lower name\n",
            "Jeffry \t\t JEFFRY \t jeffry\n"
          ]
        }
      ],
      "source": [
        "someone_name=\"Jeffry\"\n",
        "lower_name=someone_name.lower()\n",
        "upper_name=someone_name.upper()\n",
        "print('Original name\\tUpper name\\t Lower name')\n",
        "print(someone_name,\"\\t\\t\", upper_name,\"\\t\",lower_name)"
      ]
    },
    {
      "cell_type": "code",
      "execution_count": null,
      "metadata": {
        "id": "M17RfxQljvqb"
      },
      "outputs": [],
      "source": []
    },
    {
      "cell_type": "code",
      "execution_count": null,
      "metadata": {
        "id": "4agTp_Cyju4-"
      },
      "outputs": [],
      "source": []
    }
  ],
  "metadata": {
    "colab": {
      "authorship_tag": "ABX9TyMUA9WDR4IivZeHZvTFbWVp",
      "collapsed_sections": [],
      "include_colab_link": true,
      "name": "Unit2_Intro_Assignment_1.ipynb",
      "provenance": []
    },
    "kernelspec": {
      "display_name": "Python 3",
      "name": "python3"
    },
    "language_info": {
      "codemirror_mode": {
        "name": "ipython",
        "version": 3
      },
      "file_extension": ".py",
      "mimetype": "text/x-python",
      "name": "python",
      "nbconvert_exporter": "python",
      "pygments_lexer": "ipython3",
      "version": "3.8.5"
    }
  },
  "nbformat": 4,
  "nbformat_minor": 0
}
