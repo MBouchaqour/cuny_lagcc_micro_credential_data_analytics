{
  "cells": [
    {
      "cell_type": "markdown",
      "metadata": {
        "colab_type": "text",
        "id": "view-in-github"
      },
      "source": [
        "<a href=\"https://colab.research.google.com/github/niteen11/lagcc_data_analytics_micro_credential/blob/master/Unit%202%20-%20Python%20Fundamentals/Mini%20Project/Unit2_Mini_Project.ipynb\" target=\"_parent\"><img src=\"https://colab.research.google.com/assets/colab-badge.svg\" alt=\"Open In Colab\"/></a>"
      ]
    },
    {
      "cell_type": "markdown",
      "metadata": {
        "id": "Vgs8Kp4TidFQ"
      },
      "source": [
        "# Intrdouction to Python - Mini Project"
      ]
    },
    {
      "cell_type": "markdown",
      "metadata": {
        "id": "_Hq7Ny79iwgD"
      },
      "source": [
        "#Python Project – Odd or Even\n",
        "\n",
        "Ask the user for a number. Depending on whether the number is even or odd, print out an appropriate message to the user. Hint: how does an even / odd number react differently when divided by 2?\n"
      ]
    },
    {
      "cell_type": "code",
      "execution_count": 1,
      "metadata": {
        "id": "lotvpVpvlKsR"
      },
      "outputs": [
        {
          "name": "stdout",
          "output_type": "stream",
          "text": [
            "The number you entered is even\n"
          ]
        }
      ],
      "source": [
        "user_num=int(input(\"Enter a number: \"))\n",
        "if user_num%2==0:\n",
        "    print('The number you entered is even')\n",
        "else:\n",
        "    print('The number you entered is odd')\n"
      ]
    },
    {
      "cell_type": "code",
      "execution_count": null,
      "metadata": {
        "id": "6_iDEhq5nvd8"
      },
      "outputs": [],
      "source": []
    },
    {
      "cell_type": "markdown",
      "metadata": {
        "id": "io_27RSlizno"
      },
      "source": [
        "# Bonus:\n",
        "\n",
        "1.\tIf the number is a multiple of 4, print out a different message.\n",
        "\n",
        "2.\tAsk the user for two numbers: one number to check (call it num) and one number to divide by (check). If check divides evenly into num, tell that to the user. If not, print a different appropriate message.\n"
      ]
    },
    {
      "cell_type": "code",
      "execution_count": 4,
      "metadata": {
        "id": "Dh1o5cAylSHB"
      },
      "outputs": [
        {
          "name": "stdout",
          "output_type": "stream",
          "text": [
            "The number you entered is odd\n"
          ]
        }
      ],
      "source": [
        "# check if the number is a multiple of 4 and printing out a different message\n",
        "def check_even_odd_by4(number):\n",
        "    if number%2==0:\n",
        "        if number%4==0:\n",
        "            print('The number you entered is even and also divided by 4')\n",
        "        else:\n",
        "            print('The number you entered is even but not divided by 4')\n",
        "    else:\n",
        "        print('The number you entered is odd')\n",
        "\n",
        "\n",
        "user_num=int(input(\"Enter a number: \"))\n",
        "check_even_odd_by4(user_num)\n",
        "\n"
      ]
    },
    {
      "cell_type": "code",
      "execution_count": 12,
      "metadata": {
        "id": "vs8ppR-wlSKL"
      },
      "outputs": [],
      "source": [
        "# 2.\tAsk the user for two numbers: one number to check (call it num) and one number to divide by (check). \n",
        "# If check divides evenly into num, tell that to the user. If not, print a different appropriate message.\n",
        "\n",
        "def division(num,check):\n",
        "    if check==0:\n",
        "        return \"Error! We don't divide by 0\"\n",
        "    elif num%check==0:\n",
        "        message=(f\"{check} divides  {num}\".format(check,num))\n",
        "        return message\n",
        "    else:\n",
        "        message=(f\"{check} does not divide  {num}\".format(check,num))\n",
        "        return message\n",
        "\n",
        "\n",
        "\n",
        "\n"
      ]
    },
    {
      "cell_type": "code",
      "execution_count": 10,
      "metadata": {
        "id": "5mkKtxzunuqc"
      },
      "outputs": [
        {
          "data": {
            "text/plain": [
              "\"Error! We don't divide by 0\""
            ]
          },
          "execution_count": 10,
          "metadata": {},
          "output_type": "execute_result"
        }
      ],
      "source": [
        "division(12,0)"
      ]
    },
    {
      "cell_type": "code",
      "execution_count": 13,
      "metadata": {
        "id": "rmfPnI5onutd"
      },
      "outputs": [
        {
          "data": {
            "text/plain": [
              "'3 divides  12'"
            ]
          },
          "execution_count": 13,
          "metadata": {},
          "output_type": "execute_result"
        }
      ],
      "source": [
        "division(12,3)"
      ]
    },
    {
      "cell_type": "code",
      "execution_count": 14,
      "metadata": {
        "id": "6000qDkVnuxM"
      },
      "outputs": [
        {
          "data": {
            "text/plain": [
              "'5 does not divide  12'"
            ]
          },
          "execution_count": 14,
          "metadata": {},
          "output_type": "execute_result"
        }
      ],
      "source": [
        "division(12,5)"
      ]
    },
    {
      "cell_type": "code",
      "execution_count": null,
      "metadata": {
        "id": "X2X4dTbfnu0M"
      },
      "outputs": [],
      "source": []
    }
  ],
  "metadata": {
    "colab": {
      "authorship_tag": "ABX9TyPv6UTDnLJown4zuKgtgDOQ",
      "collapsed_sections": [],
      "include_colab_link": true,
      "name": "Unit2_Mini_Project.ipynb",
      "provenance": [],
      "toc_visible": true
    },
    "kernelspec": {
      "display_name": "Python 3",
      "name": "python3"
    },
    "language_info": {
      "codemirror_mode": {
        "name": "ipython",
        "version": 3
      },
      "file_extension": ".py",
      "mimetype": "text/x-python",
      "name": "python",
      "nbconvert_exporter": "python",
      "pygments_lexer": "ipython3",
      "version": "3.8.5"
    }
  },
  "nbformat": 4,
  "nbformat_minor": 0
}
